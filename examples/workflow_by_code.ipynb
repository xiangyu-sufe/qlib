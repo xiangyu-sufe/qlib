{
 "cells": [
  {
   "cell_type": "markdown",
   "metadata": {},
   "source": [
    "<a href=\"https://colab.research.google.com/github/microsoft/qlib/blob/main/examples/workflow_by_code.ipynb\" target=\"_parent\"><img src=\"https://colab.research.google.com/assets/colab-badge.svg\" alt=\"Open In Colab\"/></a>"
   ]
  },
  {
   "cell_type": "code",
   "execution_count": null,
   "metadata": {},
   "outputs": [],
   "source": [
    "#  Copyright (c) Microsoft Corporation.\n",
    "#  Licensed under the MIT License."
   ]
  },
  {
   "cell_type": "code",
   "execution_count": 1,
   "metadata": {},
   "outputs": [],
   "source": [
    "import sys, site\n",
    "from pathlib import Path\n",
    "\n",
    "################################# NOTE #################################\n",
    "#  Please be aware that if colab installs the latest numpy and pyqlib  #\n",
    "#  in this cell, users should RESTART the runtime in order to run the  #\n",
    "#  following cells successfully.                                       #\n",
    "########################################################################\n",
    "\n",
    "try:\n",
    "    import qlib\n",
    "except ImportError:\n",
    "    # install qlib\n",
    "    ! pip install --upgrade numpy\n",
    "    ! pip install pyqlib\n",
    "    if \"google.colab\" in sys.modules:\n",
    "        # The Google colab environment is a little outdated. We have to downgrade the pyyaml to make it compatible with other packages\n",
    "        ! pip install pyyaml==5.4.1\n",
    "    # reload\n",
    "    site.main()\n",
    "\n",
    "scripts_dir = Path.cwd().parent.joinpath(\"scripts\")\n",
    "if not scripts_dir.joinpath(\"get_data.py\").exists():\n",
    "    # download get_data.py script\n",
    "    scripts_dir = Path(\"~/tmp/qlib_code/scripts\").expanduser().resolve()\n",
    "    scripts_dir.mkdir(parents=True, exist_ok=True)\n",
    "    import requests\n",
    "\n",
    "    with requests.get(\"https://raw.githubusercontent.com/microsoft/qlib/main/scripts/get_data.py\", timeout=10) as resp:\n",
    "        with open(scripts_dir.joinpath(\"get_data.py\"), \"wb\") as fp:\n",
    "            fp.write(resp.content)"
   ]
  },
  {
   "cell_type": "code",
   "execution_count": 2,
   "metadata": {},
   "outputs": [],
   "source": [
    "import qlib\n",
    "import pandas as pd\n",
    "from qlib.constant import REG_CN\n",
    "from qlib.utils import exists_qlib_data, init_instance_by_config\n",
    "from qlib.workflow import R\n",
    "from qlib.workflow.record_temp import SignalRecord, PortAnaRecord\n",
    "from qlib.utils import flatten_dict"
   ]
  },
  {
   "cell_type": "code",
   "execution_count": 3,
   "metadata": {
    "tags": []
   },
   "outputs": [
    {
     "name": "stderr",
     "output_type": "stream",
     "text": [
      "[3760863:MainThread](2025-07-31 19:55:44,632) INFO - qlib.Initialization - [config.py:420] - default_conf: client.\n",
      "[3760863:MainThread](2025-07-31 19:55:44,639) INFO - qlib.Initialization - [__init__.py:75] - qlib successfully initialized based on client settings.\n",
      "[3760863:MainThread](2025-07-31 19:55:44,641) INFO - qlib.Initialization - [__init__.py:77] - data_path={'__DEFAULT_FREQ': PosixPath('/DATA/hxy/qlib/cn_data')}\n"
     ]
    }
   ],
   "source": [
    "provider_uri = \"~/.qlib/qlib_data/cn_data\"  # target_dir\n",
    "qlib.init(provider_uri=provider_uri, region=REG_CN)"
   ]
  },
  {
   "cell_type": "code",
   "execution_count": 4,
   "metadata": {},
   "outputs": [],
   "source": [
    "def coverage_metric(y_pred, data):\n",
    "    \n",
    "    y_true = data.get_label()\n",
    "    coverage = (y_true <= y_pred).astype(float).mean()\n",
    "    return 'coverage', coverage, True"
   ]
  },
  {
   "cell_type": "code",
   "execution_count": null,
   "metadata": {},
   "outputs": [],
   "source": []
  },
  {
   "cell_type": "markdown",
   "metadata": {},
   "source": [
    "# train model"
   ]
  },
  {
   "cell_type": "markdown",
   "metadata": {},
   "source": [
    "\"model\": {\n",
    "    \"class\": \"LGBModel\",\n",
    "    \"module_path\": \"qlib.contrib.model.gbdt\",\n",
    "    \"kwargs\": {\n",
    "        \"loss\": \"mse\",\n",
    "        # \"alpha\": 0.5,\n",
    "        \"colsample_bytree\": 0.8879,\n",
    "        \"learning_rate\": 0.0421,\n",
    "        \"subsample\": 0.8789,\n",
    "        \"lambda_l1\": 205.6999,\n",
    "        \"lambda_l2\": 580.9768,\n",
    "        \"max_depth\": 8,\n",
    "        \"num_leaves\": 210,\n",
    "        \"num_threads\": 20,\n",
    "    },\n",
    "},"
   ]
  },
  {
   "cell_type": "code",
   "execution_count": 8,
   "metadata": {
    "tags": []
   },
   "outputs": [
    {
     "name": "stderr",
     "output_type": "stream",
     "text": [
      "[3760863:MainThread](2025-07-31 20:04:18,512) INFO - qlib.GRU - [pytorch_gru_ts.py:61] - GRU pytorch version...\n",
      "[3760863:MainThread](2025-07-31 20:04:18,516) INFO - qlib.GRU - [pytorch_gru_ts.py:79] - GRU parameters setting:\n",
      "d_feat : 158\n",
      "hidden_size : 64\n",
      "num_layers : 2\n",
      "dropout : 0.0\n",
      "n_epochs : 40\n",
      "lr : 0.0002\n",
      "metric : loss\n",
      "batch_size : 3000\n",
      "early_stop : 10\n",
      "optimizer : adam\n",
      "loss_type : mse\n",
      "device : cuda:0\n",
      "n_jobs : 20\n",
      "use_GPU : True\n",
      "seed : None\n",
      "[3760863:MainThread](2025-07-31 20:04:18,520) INFO - qlib.GRU - [pytorch_gru_ts.py:124] - model:\n",
      "GRUModel(\n",
      "  (rnn): GRU(158, 64, num_layers=2, batch_first=True)\n",
      "  (fc_out): Linear(in_features=64, out_features=1, bias=True)\n",
      ")\n",
      "[3760863:MainThread](2025-07-31 20:04:18,522) INFO - qlib.GRU - [pytorch_gru_ts.py:125] - model size: 0.0649 MB\n"
     ]
    }
   ],
   "source": [
    "market = \"csiall\"\n",
    "benchmark = \"SH000905\"\n",
    "# 学习的参数\n",
    "learn_processors = [\n",
    "    {\"class\": \"DropnaLabel\"},\n",
    "    {\"class\": \"RobustZScoreNorm\", \"kwargs\": {\"fields_group\": \"feature\", \"clip_outlier\":True}}, # 有状态，标准化特征\n",
    "    {\"class\":\"CSZScoreNorm\", \"kwargs\": {\"fields_group\": \"label\"}} # 无状态，按天横截面标准化\n",
    "]\n",
    "# 测试集\n",
    "infer_processors = [\n",
    "    {\"class\": \"RobustZScoreNorm\", \"kwargs\": {\"fields_group\": \"feature\", \"clip_outlier\":True}},  # 使用训练集参数\n",
    "    {\"class\":\"CSZScoreNorm\", \"kwargs\": {\"fields_group\": \"label\"}} # 无状态，也要加\n",
    "]\n",
    "shared_processors = [\n",
    "    {\"class\": \"ProcessInf\", \"kwargs\": {}},\n",
    "    {\"class\": \"Fillna\", \"kwargs\":{\"fields_group\": \"feature\"}}\n",
    "]\n",
    "\n",
    "###################################\n",
    "# train model\n",
    "###################################\n",
    "data_handler_config = {\n",
    "    \"start_time\": \"2016-12-31\",\n",
    "    \"end_time\": \"2022-12-31\",\n",
    "    \"fit_start_time\": \"2016-12-31\",\n",
    "    \"fit_end_time\": \"2020-12-31\",\n",
    "    \"instruments\": market,\n",
    "    \"infer_processors\":infer_processors,\n",
    "    \"learn_processors\":learn_processors,\n",
    "}\n",
    "\n",
    "task = {\n",
    "    \"model\": {\n",
    "        \"class\": \"GRU\",\n",
    "        \"module_path\": \"qlib.contrib.model.pytorch_gru_ts\",\n",
    "        \"kwargs\": {\n",
    "            \"d_feat\": 158,\n",
    "            \"hidden_size\": 64,\n",
    "            \"num_layers\": 2,\n",
    "            \"dropout\": 0.0,\n",
    "            \"n_epochs\": 40,\n",
    "            \"lr\": 2e-4,\n",
    "            \"early_stop\": 10,\n",
    "            \"batch_size\": 3000,\n",
    "            \"metric\": \"loss\",\n",
    "            \"loss\": \"mse\",\n",
    "            \"n_jobs\": 20,\n",
    "            \"GPU\": 0,\n",
    "        },\n",
    "    },\n",
    "    \"dataset\": {\n",
    "        \"class\": \"TSDatasetH\",\n",
    "        \"module_path\": \"qlib.data.dataset\",\n",
    "        \"kwargs\": {\n",
    "            \"handler\": {\n",
    "                \"class\": \"Alpha158\",\n",
    "                \"module_path\": \"qlib.contrib.data.handler\",\n",
    "                \"kwargs\": data_handler_config,\n",
    "            },\n",
    "            \"segments\": {\n",
    "                \"train\": (\"2016-12-31\", \"2020-12-31\"),\n",
    "                \"valid\": (\"2021-01-01\", \"2021-12-31\"),\n",
    "                \"test\": (\"2022-01-01\", \"2022-12-31\"),\n",
    "            },\n",
    "            \n",
    "        },\n",
    "    },\n",
    "}\n",
    "\n",
    "# model initialization\n",
    "model = init_instance_by_config(task[\"model\"])\n"
   ]
  },
  {
   "cell_type": "code",
   "execution_count": 9,
   "metadata": {},
   "outputs": [
    {
     "name": "stderr",
     "output_type": "stream",
     "text": [
      "[3760863:MainThread](2025-07-31 20:06:23,329) INFO - qlib.timer - [log.py:127] - Time cost: 83.636s | Loading data Done\n",
      "[3760863:MainThread](2025-07-31 20:07:10,977) INFO - qlib.timer - [log.py:127] - Time cost: 40.234s | RobustZScoreNorm Done\n",
      "[3760863:MainThread](2025-07-31 20:07:15,744) INFO - qlib.timer - [log.py:127] - Time cost: 4.758s | CSZScoreNorm Done\n",
      "[3760863:MainThread](2025-07-31 20:07:23,739) INFO - qlib.timer - [log.py:127] - Time cost: 2.865s | DropnaLabel Done\n",
      "/home/huxiangyu/.pyenv/versions/qlib/lib/python3.10/site-packages/qlib/data/dataset/processor.py:296: SettingWithCopyWarning: \n",
      "A value is trying to be set on a copy of a slice from a DataFrame.\n",
      "Try using .loc[row_indexer,col_indexer] = value instead\n",
      "\n",
      "See the caveats in the documentation: https://pandas.pydata.org/pandas-docs/stable/user_guide/indexing.html#returning-a-view-versus-a-copy\n",
      "  df[self.cols] = X\n",
      "[3760863:MainThread](2025-07-31 20:07:57,345) INFO - qlib.timer - [log.py:127] - Time cost: 33.602s | RobustZScoreNorm Done\n",
      "[3760863:MainThread](2025-07-31 20:08:02,688) INFO - qlib.timer - [log.py:127] - Time cost: 5.340s | CSZScoreNorm Done\n",
      "[3760863:MainThread](2025-07-31 20:08:02,706) INFO - qlib.timer - [log.py:127] - Time cost: 99.373s | fit & process data Done\n",
      "[3760863:MainThread](2025-07-31 20:08:02,708) INFO - qlib.timer - [log.py:127] - Time cost: 183.017s | Init data Done\n"
     ]
    }
   ],
   "source": [
    "dataset = init_instance_by_config(task[\"dataset\"])\n"
   ]
  },
  {
   "cell_type": "code",
   "execution_count": null,
   "metadata": {},
   "outputs": [],
   "source": [
    "dataset.handler._learn"
   ]
  },
  {
   "cell_type": "code",
   "execution_count": null,
   "metadata": {},
   "outputs": [],
   "source": [
    "# start exp to train model\n",
    "with R.start(experiment_name=\"train_model\"):\n",
    "    R.log_params(**flatten_dict(task))\n",
    "    model.fit(dataset, \n",
    "            #   feval=coverage_metric,\n",
    "              )\n",
    "    R.save_objects(trained_model=model)\n",
    "    rid = R.get_recorder().id"
   ]
  },
  {
   "cell_type": "code",
   "execution_count": null,
   "metadata": {},
   "outputs": [],
   "source": [
    "model.predict(dataset)"
   ]
  },
  {
   "cell_type": "markdown",
   "metadata": {},
   "source": [
    "# prediction, backtest & analysis"
   ]
  },
  {
   "cell_type": "code",
   "execution_count": null,
   "metadata": {
    "tags": []
   },
   "outputs": [],
   "source": [
    "###################################\n",
    "# prediction, backtest & analysis\n",
    "###################################\n",
    "port_analysis_config = {\n",
    "    \"executor\": {\n",
    "        \"class\": \"SimulatorExecutor\",\n",
    "        \"module_path\": \"qlib.backtest.executor\",\n",
    "        \"kwargs\": {\n",
    "            \"time_per_step\": \"day\",\n",
    "            \"generate_portfolio_metrics\": True,\n",
    "        },\n",
    "    },\n",
    "    \"strategy\": {\n",
    "        \"class\": \"TopkDropoutStrategy\",\n",
    "        \"module_path\": \"qlib.contrib.strategy.signal_strategy\",\n",
    "        \"kwargs\": {\n",
    "            \"model\": model,\n",
    "            \"dataset\": dataset,\n",
    "            \"topk\": 50,\n",
    "            \"n_drop\": 5,\n",
    "        },\n",
    "    },\n",
    "    \"backtest\": {\n",
    "        \"start_time\": \"2017-01-01\",\n",
    "        \"end_time\": \"2020-08-01\",\n",
    "        \"account\": 100000000,\n",
    "        \"benchmark\": benchmark,\n",
    "        \"exchange_kwargs\": {\n",
    "            \"freq\": \"day\",\n",
    "            \"limit_threshold\": 0.095,\n",
    "            \"deal_price\": \"close\",\n",
    "            \"open_cost\": 0.0005,\n",
    "            \"close_cost\": 0.0015,\n",
    "            \"min_cost\": 5,\n",
    "        },\n",
    "    },\n",
    "}\n",
    "\n",
    "# backtest and analysis\n",
    "with R.start(experiment_name=\"backtest_analysis\"):\n",
    "    recorder = R.get_recorder(recorder_id=rid, experiment_name=\"train_model\")\n",
    "    model = recorder.load_object(\"trained_model\")\n",
    "\n",
    "    # prediction\n",
    "    recorder = R.get_recorder()\n",
    "    ba_rid = recorder.id\n",
    "    sr = SignalRecord(model, dataset, recorder)\n",
    "    sr.generate()\n",
    "\n",
    "    # backtest & analysis\n",
    "    par = PortAnaRecord(recorder, port_analysis_config, \"day\")\n",
    "    par.generate()"
   ]
  },
  {
   "cell_type": "markdown",
   "metadata": {},
   "source": [
    "# analyze graphs"
   ]
  },
  {
   "cell_type": "code",
   "execution_count": null,
   "metadata": {},
   "outputs": [],
   "source": [
    "from qlib.contrib.report import analysis_model, analysis_position\n",
    "from qlib.data import D\n",
    "\n",
    "recorder = R.get_recorder(recorder_id=ba_rid, experiment_name=\"backtest_analysis\")\n",
    "print(recorder)\n",
    "pred_df = recorder.load_object(\"pred.pkl\")\n",
    "report_normal_df = recorder.load_object(\"portfolio_analysis/report_normal_1day.pkl\")\n",
    "positions = recorder.load_object(\"portfolio_analysis/positions_normal_1day.pkl\")\n",
    "analysis_df = recorder.load_object(\"portfolio_analysis/port_analysis_1day.pkl\")"
   ]
  },
  {
   "cell_type": "markdown",
   "metadata": {},
   "source": [
    "## analysis position"
   ]
  },
  {
   "cell_type": "markdown",
   "metadata": {},
   "source": [
    "### report"
   ]
  },
  {
   "cell_type": "code",
   "execution_count": null,
   "metadata": {},
   "outputs": [],
   "source": [
    "analysis_position.report_graph(report_normal_df)"
   ]
  },
  {
   "cell_type": "markdown",
   "metadata": {},
   "source": [
    "### risk analysis"
   ]
  },
  {
   "cell_type": "code",
   "execution_count": null,
   "metadata": {},
   "outputs": [],
   "source": [
    "analysis_position.risk_analysis_graph(analysis_df, report_normal_df)"
   ]
  },
  {
   "cell_type": "markdown",
   "metadata": {},
   "source": [
    "## analysis model"
   ]
  },
  {
   "cell_type": "code",
   "execution_count": null,
   "metadata": {},
   "outputs": [],
   "source": [
    "label_df = dataset.prepare(\"test\", col_set=\"label\")\n",
    "label_df.columns = [\"label\"]"
   ]
  },
  {
   "cell_type": "markdown",
   "metadata": {},
   "source": [
    "### score IC"
   ]
  },
  {
   "cell_type": "code",
   "execution_count": null,
   "metadata": {},
   "outputs": [],
   "source": [
    "pred_label = pd.concat([label_df, pred_df], axis=1, sort=True).reindex(label_df.index)\n",
    "analysis_position.score_ic_graph(pred_label)"
   ]
  },
  {
   "cell_type": "markdown",
   "metadata": {},
   "source": [
    "### model performance"
   ]
  },
  {
   "cell_type": "code",
   "execution_count": null,
   "metadata": {},
   "outputs": [],
   "source": [
    "analysis_model.model_performance_graph(pred_label)"
   ]
  }
 ],
 "metadata": {
  "kernelspec": {
   "display_name": "qlib",
   "language": "python",
   "name": "python3"
  },
  "language_info": {
   "codemirror_mode": {
    "name": "ipython",
    "version": 3
   },
   "file_extension": ".py",
   "mimetype": "text/x-python",
   "name": "python",
   "nbconvert_exporter": "python",
   "pygments_lexer": "ipython3",
   "version": "3.10.8"
  },
  "toc": {
   "base_numbering": 1,
   "nav_menu": {},
   "number_sections": true,
   "sideBar": true,
   "skip_h1_title": false,
   "title_cell": "Table of Contents",
   "title_sidebar": "Contents",
   "toc_cell": false,
   "toc_position": {},
   "toc_section_display": true,
   "toc_window_display": false
  }
 },
 "nbformat": 4,
 "nbformat_minor": 4
}
